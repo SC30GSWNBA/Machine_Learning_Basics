{
  "cells": [
    {
      "cell_type": "markdown",
      "metadata": {
        "id": "GQIsV22uLa9T"
      },
      "source": [
        "## Content\n",
        "\n",
        "-UseCase\n",
        "\n",
        "- Impact of Outliers\n",
        "\n",
        "- Standardization\n",
        "\n",
        "- Encoding of categorical features for DT (with large categories)\n",
        "\n",
        "- DT for High demensionality data \n",
        "\n",
        "- Imbalance in DT\n",
        "\n",
        "- Runtime complexity\n",
        "\n",
        "- Multiclass classification \n",
        "\n",
        "- Using feature twice for split\n",
        "\n",
        "- Feature importance\n",
        "\n",
        "- Regression using Decision Tree\n",
        "\n",
        "- Greedy Approximation of DT\n",
        "\n",
        "- Summary\n",
        "\n"
      ]
    },
    {
      "cell_type": "markdown",
      "metadata": {
        "id": "MVGRgX3_XFsu"
      },
      "source": [
        "## UseCase Intro: Employee Attrition"
      ]
    },
    {
      "cell_type": "markdown",
      "metadata": {
        "id": "Kx6jPgUwVQg3"
      },
      "source": [
        "#### You are a Data Scientist working at a Jio\n",
        "\n",
        "The company is facing a huge problem of employee attrition\n",
        "\n",
        "\n",
        "#### Why is this a problem? \n",
        "\n",
        "Employee Attriton has always been a major problem for companies.\n",
        "- The cost of replacing an employee has always been significant due to the fact that most times:\n",
        "- The company will have to pay the new employee more than the employee they are replacing\n",
        "- Lots of time and resources invested in interviewing multiple candidates\n",
        "\n",
        "\n",
        "#### What's the task at hand? \n",
        "Your task is to :\n",
        "- Identify the likelihood of an active employee leaving the company.\n",
        "\n",
        "This can help the company take more targeted approaches to retain the specific employees at risk of attrition\n",
        "\n",
        "- Help identify the key indicators/factors leading to an employee leaving.\n",
        "\n",
        "This will help the company take more proactive measures in retaining current and future employees to reduce employee dissatisfaction\n",
        "\n",
        "- Find out the policies or strategies can be adopted based on the results to improve employee retention?\n"
      ]
    },
    {
      "cell_type": "markdown",
      "metadata": {
        "id": "iZzBPOxju7G3"
      },
      "source": [
        "#### Importing libraries"
      ]
    },
    {
      "cell_type": "code",
      "execution_count": null,
      "metadata": {
        "id": "WLEr_32hutd0"
      },
      "outputs": [],
      "source": [
        "import numpy as np\n",
        "import pandas as pd\n",
        "import matplotlib.pyplot as plt\n",
        "import io"
      ]
    },
    {
      "cell_type": "markdown",
      "source": [
        "Preprocessed Data"
      ],
      "metadata": {
        "id": "Gy621ZV-lYPX"
      }
    },
    {
      "cell_type": "code",
      "source": [
        "!gdown 12G_J8gBel8MpspdXJruZuuMvyrm9upNb\n",
        "!gdown 1-zjfYbZm8JC4wog9tG4zltMPuZM6p9_A\n",
        "\n",
        "\n",
        "!gdown 1p03Ltdto8XoOdu14YlcQjzE-360SyI89\n",
        "!gdown 1mNcWfaEW19ql8WCih6HiqRryCcjFUUqx\n"
      ],
      "metadata": {
        "colab": {
          "base_uri": "https://localhost:8080/"
        },
        "id": "LquFHX1klR2g",
        "outputId": "7ec7fe40-6f7f-4038-8930-24e5b52aa005"
      },
      "execution_count": null,
      "outputs": [
        {
          "output_type": "stream",
          "name": "stdout",
          "text": [
            "Downloading...\n",
            "From: https://drive.google.com/uc?id=12G_J8gBel8MpspdXJruZuuMvyrm9upNb\n",
            "To: /content/X_test.csv\n",
            "100% 51.7k/51.7k [00:00<00:00, 56.8MB/s]\n",
            "Downloading...\n",
            "From: https://drive.google.com/uc?id=1-zjfYbZm8JC4wog9tG4zltMPuZM6p9_A\n",
            "To: /content/X_train.csv\n",
            "100% 154k/154k [00:00<00:00, 57.8MB/s]\n",
            "Downloading...\n",
            "From: https://drive.google.com/uc?id=1p03Ltdto8XoOdu14YlcQjzE-360SyI89\n",
            "To: /content/y_test.csv\n",
            "100% 743/743 [00:00<00:00, 923kB/s]\n",
            "Downloading...\n",
            "From: https://drive.google.com/uc?id=1mNcWfaEW19ql8WCih6HiqRryCcjFUUqx\n",
            "To: /content/y_train.csv\n",
            "100% 2.21k/2.21k [00:00<00:00, 4.04MB/s]\n"
          ]
        }
      ]
    },
    {
      "cell_type": "code",
      "source": [
        "X_train = pd.read_csv('X_train.csv')\n",
        "X_test = pd.read_csv('X_test.csv')\n",
        "y_train = pd.read_csv('y_train.csv')\n",
        "y_test = pd.read_csv('y_test.csv')"
      ],
      "metadata": {
        "id": "GzL8l4XgnHFb"
      },
      "execution_count": null,
      "outputs": []
    },
    {
      "cell_type": "code",
      "execution_count": null,
      "metadata": {
        "colab": {
          "base_uri": "https://localhost:8080/"
        },
        "id": "ofi_wcARy5qy",
        "outputId": "32d7a4de-fd68-4c1a-f504-04345d2eb08c"
      },
      "outputs": [
        {
          "output_type": "stream",
          "name": "stdout",
          "text": [
            "Resampled dataset shape Counter({'Target': 1})\n"
          ]
        }
      ],
      "source": [
        "from imblearn.over_sampling import SMOTE\n",
        "from collections import Counter\n",
        "\n",
        "smt = SMOTE()\n",
        "X_sm, y_sm = smt.fit_resample(X_train, y_train)\n",
        "\n",
        "print('Resampled dataset shape {}'.format(Counter(y_sm)))"
      ]
    },
    {
      "cell_type": "code",
      "execution_count": null,
      "metadata": {
        "colab": {
          "base_uri": "https://localhost:8080/"
        },
        "id": "Oy1of3kAiEwj",
        "outputId": "11b27481-f69e-47e5-ba8a-b9699b19ccf2"
      },
      "outputs": [
        {
          "output_type": "execute_result",
          "data": {
            "text/plain": [
              "(1848, 36)"
            ]
          },
          "metadata": {},
          "execution_count": 5
        }
      ],
      "source": [
        "X_sm.shape"
      ]
    },
    {
      "cell_type": "code",
      "execution_count": null,
      "metadata": {
        "colab": {
          "base_uri": "https://localhost:8080/",
          "height": 505
        },
        "id": "eqL55xKqwBsm",
        "outputId": "f2b4fb72-1505-49b5-d818-32e7587ade31"
      },
      "outputs": [
        {
          "output_type": "execute_result",
          "data": {
            "text/plain": [
              "      Age  DailyRate  DistanceFromHome  Education  EducationField  \\\n",
              "0      36       1174                 3          4        0.233871   \n",
              "1      21        546                 5          1        0.127479   \n",
              "2      43        422                 1          3        0.151584   \n",
              "3      42        188                29          3        0.127479   \n",
              "4      35        992                 1          3        0.127479   \n",
              "...   ...        ...               ...        ...             ...   \n",
              "1843   42       1245                12          3        0.238984   \n",
              "1844   47        827                12          3        0.236800   \n",
              "1845   29        336                14          1        0.137509   \n",
              "1846   26       1142                17          2        0.236799   \n",
              "1847   33        625                 4          3        0.188388   \n",
              "\n",
              "      EnvironmentSatisfaction  Gender  HourlyRate  JobInvolvement  JobLevel  \\\n",
              "0                           1       0          99               3         2   \n",
              "1                           3       1          97               3         1   \n",
              "2                           4       0          33               3         2   \n",
              "3                           2       1          56               1         2   \n",
              "4                           4       1          68               2         1   \n",
              "...                       ...     ...         ...             ...       ...   \n",
              "1843                        1       0          52               3         4   \n",
              "1844                        1       0          66               3         4   \n",
              "1845                        3       0          85               3         2   \n",
              "1846                        3       1          33               2         1   \n",
              "1847                        2       0          57               2         1   \n",
              "\n",
              "      ...  YearsWithCurrManager  BusinessTravel_Non-Travel  \\\n",
              "0     ...                     1                        0.0   \n",
              "1     ...                     2                        0.0   \n",
              "2     ...                     2                        0.0   \n",
              "3     ...                     0                        0.0   \n",
              "4     ...                     2                        0.0   \n",
              "...   ...                   ...                        ...   \n",
              "1843  ...                     8                        0.0   \n",
              "1844  ...                     8                        0.0   \n",
              "1845  ...                     7                        0.0   \n",
              "1846  ...                     1                        0.0   \n",
              "1847  ...                     2                        0.0   \n",
              "\n",
              "      BusinessTravel_Travel_Frequently  BusinessTravel_Travel_Rarely  \\\n",
              "0                             0.000000                      1.000000   \n",
              "1                             0.000000                      1.000000   \n",
              "2                             1.000000                      0.000000   \n",
              "3                             0.000000                      1.000000   \n",
              "4                             0.000000                      1.000000   \n",
              "...                                ...                           ...   \n",
              "1843                          0.000000                      1.000000   \n",
              "1844                          0.000000                      1.000000   \n",
              "1845                          0.913267                      0.086733   \n",
              "1846                          0.000000                      1.000000   \n",
              "1847                          0.000000                      1.000000   \n",
              "\n",
              "      Department_Human Resources  Department_Research & Development  \\\n",
              "0                       0.000000                           0.000000   \n",
              "1                       0.000000                           1.000000   \n",
              "2                       0.000000                           1.000000   \n",
              "3                       0.000000                           1.000000   \n",
              "4                       0.000000                           1.000000   \n",
              "...                          ...                                ...   \n",
              "1843                    0.000000                           0.895096   \n",
              "1844                    0.000000                           0.512758   \n",
              "1845                    0.000000                           1.000000   \n",
              "1846                    0.000000                           0.512576   \n",
              "1847                    0.610352                           0.000000   \n",
              "\n",
              "      Department_Sales  MaritalStatus_Divorced  MaritalStatus_Married  \\\n",
              "0             1.000000                0.000000               0.000000   \n",
              "1             0.000000                0.000000               0.000000   \n",
              "2             0.000000                0.000000               1.000000   \n",
              "3             0.000000                0.000000               0.000000   \n",
              "4             0.000000                0.000000               0.000000   \n",
              "...                ...                     ...                    ...   \n",
              "1843          0.104904                0.000000               0.895096   \n",
              "1844          0.487242                0.000000               0.512758   \n",
              "1845          0.000000                0.000000               0.086733   \n",
              "1846          0.487424                0.512576               0.487424   \n",
              "1847          0.389648                1.000000               0.000000   \n",
              "\n",
              "      MaritalStatus_Single  \n",
              "0                 1.000000  \n",
              "1                 1.000000  \n",
              "2                 0.000000  \n",
              "3                 1.000000  \n",
              "4                 1.000000  \n",
              "...                    ...  \n",
              "1843              0.104904  \n",
              "1844              0.487242  \n",
              "1845              0.913267  \n",
              "1846              0.000000  \n",
              "1847              0.000000  \n",
              "\n",
              "[1848 rows x 36 columns]"
            ],
            "text/html": [
              "\n",
              "  <div id=\"df-60c202b7-cbb6-438d-aec1-fe2ce68466e2\">\n",
              "    <div class=\"colab-df-container\">\n",
              "      <div>\n",
              "<style scoped>\n",
              "    .dataframe tbody tr th:only-of-type {\n",
              "        vertical-align: middle;\n",
              "    }\n",
              "\n",
              "    .dataframe tbody tr th {\n",
              "        vertical-align: top;\n",
              "    }\n",
              "\n",
              "    .dataframe thead th {\n",
              "        text-align: right;\n",
              "    }\n",
              "</style>\n",
              "<table border=\"1\" class=\"dataframe\">\n",
              "  <thead>\n",
              "    <tr style=\"text-align: right;\">\n",
              "      <th></th>\n",
              "      <th>Age</th>\n",
              "      <th>DailyRate</th>\n",
              "      <th>DistanceFromHome</th>\n",
              "      <th>Education</th>\n",
              "      <th>EducationField</th>\n",
              "      <th>EnvironmentSatisfaction</th>\n",
              "      <th>Gender</th>\n",
              "      <th>HourlyRate</th>\n",
              "      <th>JobInvolvement</th>\n",
              "      <th>JobLevel</th>\n",
              "      <th>...</th>\n",
              "      <th>YearsWithCurrManager</th>\n",
              "      <th>BusinessTravel_Non-Travel</th>\n",
              "      <th>BusinessTravel_Travel_Frequently</th>\n",
              "      <th>BusinessTravel_Travel_Rarely</th>\n",
              "      <th>Department_Human Resources</th>\n",
              "      <th>Department_Research &amp; Development</th>\n",
              "      <th>Department_Sales</th>\n",
              "      <th>MaritalStatus_Divorced</th>\n",
              "      <th>MaritalStatus_Married</th>\n",
              "      <th>MaritalStatus_Single</th>\n",
              "    </tr>\n",
              "  </thead>\n",
              "  <tbody>\n",
              "    <tr>\n",
              "      <th>0</th>\n",
              "      <td>36</td>\n",
              "      <td>1174</td>\n",
              "      <td>3</td>\n",
              "      <td>4</td>\n",
              "      <td>0.233871</td>\n",
              "      <td>1</td>\n",
              "      <td>0</td>\n",
              "      <td>99</td>\n",
              "      <td>3</td>\n",
              "      <td>2</td>\n",
              "      <td>...</td>\n",
              "      <td>1</td>\n",
              "      <td>0.0</td>\n",
              "      <td>0.000000</td>\n",
              "      <td>1.000000</td>\n",
              "      <td>0.000000</td>\n",
              "      <td>0.000000</td>\n",
              "      <td>1.000000</td>\n",
              "      <td>0.000000</td>\n",
              "      <td>0.000000</td>\n",
              "      <td>1.000000</td>\n",
              "    </tr>\n",
              "    <tr>\n",
              "      <th>1</th>\n",
              "      <td>21</td>\n",
              "      <td>546</td>\n",
              "      <td>5</td>\n",
              "      <td>1</td>\n",
              "      <td>0.127479</td>\n",
              "      <td>3</td>\n",
              "      <td>1</td>\n",
              "      <td>97</td>\n",
              "      <td>3</td>\n",
              "      <td>1</td>\n",
              "      <td>...</td>\n",
              "      <td>2</td>\n",
              "      <td>0.0</td>\n",
              "      <td>0.000000</td>\n",
              "      <td>1.000000</td>\n",
              "      <td>0.000000</td>\n",
              "      <td>1.000000</td>\n",
              "      <td>0.000000</td>\n",
              "      <td>0.000000</td>\n",
              "      <td>0.000000</td>\n",
              "      <td>1.000000</td>\n",
              "    </tr>\n",
              "    <tr>\n",
              "      <th>2</th>\n",
              "      <td>43</td>\n",
              "      <td>422</td>\n",
              "      <td>1</td>\n",
              "      <td>3</td>\n",
              "      <td>0.151584</td>\n",
              "      <td>4</td>\n",
              "      <td>0</td>\n",
              "      <td>33</td>\n",
              "      <td>3</td>\n",
              "      <td>2</td>\n",
              "      <td>...</td>\n",
              "      <td>2</td>\n",
              "      <td>0.0</td>\n",
              "      <td>1.000000</td>\n",
              "      <td>0.000000</td>\n",
              "      <td>0.000000</td>\n",
              "      <td>1.000000</td>\n",
              "      <td>0.000000</td>\n",
              "      <td>0.000000</td>\n",
              "      <td>1.000000</td>\n",
              "      <td>0.000000</td>\n",
              "    </tr>\n",
              "    <tr>\n",
              "      <th>3</th>\n",
              "      <td>42</td>\n",
              "      <td>188</td>\n",
              "      <td>29</td>\n",
              "      <td>3</td>\n",
              "      <td>0.127479</td>\n",
              "      <td>2</td>\n",
              "      <td>1</td>\n",
              "      <td>56</td>\n",
              "      <td>1</td>\n",
              "      <td>2</td>\n",
              "      <td>...</td>\n",
              "      <td>0</td>\n",
              "      <td>0.0</td>\n",
              "      <td>0.000000</td>\n",
              "      <td>1.000000</td>\n",
              "      <td>0.000000</td>\n",
              "      <td>1.000000</td>\n",
              "      <td>0.000000</td>\n",
              "      <td>0.000000</td>\n",
              "      <td>0.000000</td>\n",
              "      <td>1.000000</td>\n",
              "    </tr>\n",
              "    <tr>\n",
              "      <th>4</th>\n",
              "      <td>35</td>\n",
              "      <td>992</td>\n",
              "      <td>1</td>\n",
              "      <td>3</td>\n",
              "      <td>0.127479</td>\n",
              "      <td>4</td>\n",
              "      <td>1</td>\n",
              "      <td>68</td>\n",
              "      <td>2</td>\n",
              "      <td>1</td>\n",
              "      <td>...</td>\n",
              "      <td>2</td>\n",
              "      <td>0.0</td>\n",
              "      <td>0.000000</td>\n",
              "      <td>1.000000</td>\n",
              "      <td>0.000000</td>\n",
              "      <td>1.000000</td>\n",
              "      <td>0.000000</td>\n",
              "      <td>0.000000</td>\n",
              "      <td>0.000000</td>\n",
              "      <td>1.000000</td>\n",
              "    </tr>\n",
              "    <tr>\n",
              "      <th>...</th>\n",
              "      <td>...</td>\n",
              "      <td>...</td>\n",
              "      <td>...</td>\n",
              "      <td>...</td>\n",
              "      <td>...</td>\n",
              "      <td>...</td>\n",
              "      <td>...</td>\n",
              "      <td>...</td>\n",
              "      <td>...</td>\n",
              "      <td>...</td>\n",
              "      <td>...</td>\n",
              "      <td>...</td>\n",
              "      <td>...</td>\n",
              "      <td>...</td>\n",
              "      <td>...</td>\n",
              "      <td>...</td>\n",
              "      <td>...</td>\n",
              "      <td>...</td>\n",
              "      <td>...</td>\n",
              "      <td>...</td>\n",
              "      <td>...</td>\n",
              "    </tr>\n",
              "    <tr>\n",
              "      <th>1843</th>\n",
              "      <td>42</td>\n",
              "      <td>1245</td>\n",
              "      <td>12</td>\n",
              "      <td>3</td>\n",
              "      <td>0.238984</td>\n",
              "      <td>1</td>\n",
              "      <td>0</td>\n",
              "      <td>52</td>\n",
              "      <td>3</td>\n",
              "      <td>4</td>\n",
              "      <td>...</td>\n",
              "      <td>8</td>\n",
              "      <td>0.0</td>\n",
              "      <td>0.000000</td>\n",
              "      <td>1.000000</td>\n",
              "      <td>0.000000</td>\n",
              "      <td>0.895096</td>\n",
              "      <td>0.104904</td>\n",
              "      <td>0.000000</td>\n",
              "      <td>0.895096</td>\n",
              "      <td>0.104904</td>\n",
              "    </tr>\n",
              "    <tr>\n",
              "      <th>1844</th>\n",
              "      <td>47</td>\n",
              "      <td>827</td>\n",
              "      <td>12</td>\n",
              "      <td>3</td>\n",
              "      <td>0.236800</td>\n",
              "      <td>1</td>\n",
              "      <td>0</td>\n",
              "      <td>66</td>\n",
              "      <td>3</td>\n",
              "      <td>4</td>\n",
              "      <td>...</td>\n",
              "      <td>8</td>\n",
              "      <td>0.0</td>\n",
              "      <td>0.000000</td>\n",
              "      <td>1.000000</td>\n",
              "      <td>0.000000</td>\n",
              "      <td>0.512758</td>\n",
              "      <td>0.487242</td>\n",
              "      <td>0.000000</td>\n",
              "      <td>0.512758</td>\n",
              "      <td>0.487242</td>\n",
              "    </tr>\n",
              "    <tr>\n",
              "      <th>1845</th>\n",
              "      <td>29</td>\n",
              "      <td>336</td>\n",
              "      <td>14</td>\n",
              "      <td>1</td>\n",
              "      <td>0.137509</td>\n",
              "      <td>3</td>\n",
              "      <td>0</td>\n",
              "      <td>85</td>\n",
              "      <td>3</td>\n",
              "      <td>2</td>\n",
              "      <td>...</td>\n",
              "      <td>7</td>\n",
              "      <td>0.0</td>\n",
              "      <td>0.913267</td>\n",
              "      <td>0.086733</td>\n",
              "      <td>0.000000</td>\n",
              "      <td>1.000000</td>\n",
              "      <td>0.000000</td>\n",
              "      <td>0.000000</td>\n",
              "      <td>0.086733</td>\n",
              "      <td>0.913267</td>\n",
              "    </tr>\n",
              "    <tr>\n",
              "      <th>1846</th>\n",
              "      <td>26</td>\n",
              "      <td>1142</td>\n",
              "      <td>17</td>\n",
              "      <td>2</td>\n",
              "      <td>0.236799</td>\n",
              "      <td>3</td>\n",
              "      <td>1</td>\n",
              "      <td>33</td>\n",
              "      <td>2</td>\n",
              "      <td>1</td>\n",
              "      <td>...</td>\n",
              "      <td>1</td>\n",
              "      <td>0.0</td>\n",
              "      <td>0.000000</td>\n",
              "      <td>1.000000</td>\n",
              "      <td>0.000000</td>\n",
              "      <td>0.512576</td>\n",
              "      <td>0.487424</td>\n",
              "      <td>0.512576</td>\n",
              "      <td>0.487424</td>\n",
              "      <td>0.000000</td>\n",
              "    </tr>\n",
              "    <tr>\n",
              "      <th>1847</th>\n",
              "      <td>33</td>\n",
              "      <td>625</td>\n",
              "      <td>4</td>\n",
              "      <td>3</td>\n",
              "      <td>0.188388</td>\n",
              "      <td>2</td>\n",
              "      <td>0</td>\n",
              "      <td>57</td>\n",
              "      <td>2</td>\n",
              "      <td>1</td>\n",
              "      <td>...</td>\n",
              "      <td>2</td>\n",
              "      <td>0.0</td>\n",
              "      <td>0.000000</td>\n",
              "      <td>1.000000</td>\n",
              "      <td>0.610352</td>\n",
              "      <td>0.000000</td>\n",
              "      <td>0.389648</td>\n",
              "      <td>1.000000</td>\n",
              "      <td>0.000000</td>\n",
              "      <td>0.000000</td>\n",
              "    </tr>\n",
              "  </tbody>\n",
              "</table>\n",
              "<p>1848 rows × 36 columns</p>\n",
              "</div>\n",
              "      <button class=\"colab-df-convert\" onclick=\"convertToInteractive('df-60c202b7-cbb6-438d-aec1-fe2ce68466e2')\"\n",
              "              title=\"Convert this dataframe to an interactive table.\"\n",
              "              style=\"display:none;\">\n",
              "        \n",
              "  <svg xmlns=\"http://www.w3.org/2000/svg\" height=\"24px\"viewBox=\"0 0 24 24\"\n",
              "       width=\"24px\">\n",
              "    <path d=\"M0 0h24v24H0V0z\" fill=\"none\"/>\n",
              "    <path d=\"M18.56 5.44l.94 2.06.94-2.06 2.06-.94-2.06-.94-.94-2.06-.94 2.06-2.06.94zm-11 1L8.5 8.5l.94-2.06 2.06-.94-2.06-.94L8.5 2.5l-.94 2.06-2.06.94zm10 10l.94 2.06.94-2.06 2.06-.94-2.06-.94-.94-2.06-.94 2.06-2.06.94z\"/><path d=\"M17.41 7.96l-1.37-1.37c-.4-.4-.92-.59-1.43-.59-.52 0-1.04.2-1.43.59L10.3 9.45l-7.72 7.72c-.78.78-.78 2.05 0 2.83L4 21.41c.39.39.9.59 1.41.59.51 0 1.02-.2 1.41-.59l7.78-7.78 2.81-2.81c.8-.78.8-2.07 0-2.86zM5.41 20L4 18.59l7.72-7.72 1.47 1.35L5.41 20z\"/>\n",
              "  </svg>\n",
              "      </button>\n",
              "      \n",
              "  <style>\n",
              "    .colab-df-container {\n",
              "      display:flex;\n",
              "      flex-wrap:wrap;\n",
              "      gap: 12px;\n",
              "    }\n",
              "\n",
              "    .colab-df-convert {\n",
              "      background-color: #E8F0FE;\n",
              "      border: none;\n",
              "      border-radius: 50%;\n",
              "      cursor: pointer;\n",
              "      display: none;\n",
              "      fill: #1967D2;\n",
              "      height: 32px;\n",
              "      padding: 0 0 0 0;\n",
              "      width: 32px;\n",
              "    }\n",
              "\n",
              "    .colab-df-convert:hover {\n",
              "      background-color: #E2EBFA;\n",
              "      box-shadow: 0px 1px 2px rgba(60, 64, 67, 0.3), 0px 1px 3px 1px rgba(60, 64, 67, 0.15);\n",
              "      fill: #174EA6;\n",
              "    }\n",
              "\n",
              "    [theme=dark] .colab-df-convert {\n",
              "      background-color: #3B4455;\n",
              "      fill: #D2E3FC;\n",
              "    }\n",
              "\n",
              "    [theme=dark] .colab-df-convert:hover {\n",
              "      background-color: #434B5C;\n",
              "      box-shadow: 0px 1px 3px 1px rgba(0, 0, 0, 0.15);\n",
              "      filter: drop-shadow(0px 1px 2px rgba(0, 0, 0, 0.3));\n",
              "      fill: #FFFFFF;\n",
              "    }\n",
              "  </style>\n",
              "\n",
              "      <script>\n",
              "        const buttonEl =\n",
              "          document.querySelector('#df-60c202b7-cbb6-438d-aec1-fe2ce68466e2 button.colab-df-convert');\n",
              "        buttonEl.style.display =\n",
              "          google.colab.kernel.accessAllowed ? 'block' : 'none';\n",
              "\n",
              "        async function convertToInteractive(key) {\n",
              "          const element = document.querySelector('#df-60c202b7-cbb6-438d-aec1-fe2ce68466e2');\n",
              "          const dataTable =\n",
              "            await google.colab.kernel.invokeFunction('convertToInteractive',\n",
              "                                                     [key], {});\n",
              "          if (!dataTable) return;\n",
              "\n",
              "          const docLinkHtml = 'Like what you see? Visit the ' +\n",
              "            '<a target=\"_blank\" href=https://colab.research.google.com/notebooks/data_table.ipynb>data table notebook</a>'\n",
              "            + ' to learn more about interactive tables.';\n",
              "          element.innerHTML = '';\n",
              "          dataTable['output_type'] = 'display_data';\n",
              "          await google.colab.output.renderOutput(dataTable, element);\n",
              "          const docLink = document.createElement('div');\n",
              "          docLink.innerHTML = docLinkHtml;\n",
              "          element.appendChild(docLink);\n",
              "        }\n",
              "      </script>\n",
              "    </div>\n",
              "  </div>\n",
              "  "
            ]
          },
          "metadata": {},
          "execution_count": 6
        }
      ],
      "source": [
        "X_sm"
      ]
    },
    {
      "cell_type": "markdown",
      "metadata": {
        "id": "G67KwdaQacX-"
      },
      "source": [
        "# **Impact of outliers**\n"
      ]
    },
    {
      "cell_type": "markdown",
      "metadata": {
        "id": "J8S9i1XKaU_I"
      },
      "source": [
        "#### Question: Will outliers impact the DT ?\n",
        "\n",
        "Outliers impact a decision tree when the depth is high i.e. overfitted model \n",
        "\n",
        "Imagine a scenario where\n",
        "- we have 1000 datapoints at root node\n",
        "- we built a tree\n",
        "- After splitting agressively i.e. depth is high we got\n",
        "    - 5 +ve point in one leaf nodes\n",
        "\n",
        "There may be chance these 5 points are noise / outliers. \n",
        "\n",
        "Hence, outliers will only impact tree with large depth"
      ]
    },
    {
      "cell_type": "markdown",
      "metadata": {
        "id": "ODFrBFgGwLKn"
      },
      "source": [
        "<img src='https://drive.google.com/uc?id=1nlGGvUplV-nqDCnB13U2GVx3FN9fSTZ4'>\n"
      ]
    },
    {
      "cell_type": "markdown",
      "metadata": {
        "id": "0HiwzqbvvfRc"
      },
      "source": [
        "## **Standardization**"
      ]
    },
    {
      "cell_type": "markdown",
      "metadata": {
        "id": "q9P2RQjdwORP"
      },
      "source": [
        "#### (Revision question) Did we standardize data for Linear Regression & PCA?\n",
        "\n",
        "Yes."
      ]
    },
    {
      "cell_type": "markdown",
      "metadata": {
        "id": "KcyPVYbaWMNj"
      },
      "source": [
        "#### Question: Is Standardisation  required for Decision tree?\n",
        "\n",
        "Imagine we have a numerical feature $f_i$\n",
        "- values are say, 2.1, 2.6, 2.8 and so on ..\n",
        "\n",
        "Let's say we standardized it\n",
        "- values we go -1.2, -1, 0 , .. and so on\n",
        "\n",
        "For calculating entropy, we are using the values as threshold only as splitting criteria.\n",
        "\n",
        "Entropy isn't dependent on value\n",
        "- it depends on number of +ve/ -ve datapoints\n",
        "- and in turn dependend on thresold\n",
        "\n",
        "Threshold order won't change with standardization.\n",
        "\n",
        "Standardization does not impact entropy and Information gain\n",
        "\n",
        "<br>\n",
        "\n",
        "**Key lesson**:\n",
        "\n",
        "Though standardisation is required in optimisation based problems like Linear Regression, Logistic Regression, PCA, \n",
        "- as standardisation **doesn't effect the entropy or the Information Gain** of the data it doesn't add any value in Decision tree.\n",
        "\n"
      ]
    },
    {
      "cell_type": "markdown",
      "metadata": {
        "id": "3aqO0LIAXPdJ"
      },
      "source": [
        "\n",
        "<img src='https://drive.google.com/uc?id=1TKSiPMLUt14FHs1AjAqySZQycgyhwWs0'>"
      ]
    },
    {
      "cell_type": "markdown",
      "metadata": {
        "id": "csgXgiT-yq_q"
      },
      "source": [
        "# **Encoding of categorial features for DT**"
      ]
    },
    {
      "cell_type": "markdown",
      "metadata": {
        "id": "qbVwTXbJXZBp"
      },
      "source": [
        "Imagine we have a categorical feature with many categories  (for example: zipcode with 10,000 values)\n",
        "\n",
        "\n",
        "#### Question: How can we encode  a categorical feature with many categories ?  \n",
        "\n",
        "* We can do **\"no encoding\"**\n",
        " * if we did not do encoding\n",
        "    - we'll get 10,000 child nodes\n",
        "    - data set becomes too small in some nodes\n",
        "    - prediction may suffer as we don't have enough datapoints (can be outliers or noise) in node to affirmly back our prediction\n",
        "    - not a wise choice\n",
        "\n",
        "* We can do **target encoding** \n",
        " * covert to numerical and then give it to decision tree\n",
        "\n",
        "* We **should not do one hot encoding**\n",
        "  * Because that increases the dimensionality of the data \n",
        "\n",
        "**Key lesson:**\n",
        "* Appropriate feature encoding depends on the model that you are using like if you are using logistic regression you can use one hat encoding but not in decision tree.\n"
      ]
    },
    {
      "cell_type": "markdown",
      "metadata": {
        "id": "tAQzP0YoDDAK"
      },
      "source": [
        "\n",
        "\n",
        "<img src='https://drive.google.com/uc?id=1gtSEg36jCNkhdaAYOPuctlWEqJEH7l2j'>"
      ]
    },
    {
      "cell_type": "markdown",
      "metadata": {
        "id": "JFFx6XiB2PHi"
      },
      "source": [
        "# **DT for high dimension data**"
      ]
    },
    {
      "cell_type": "markdown",
      "metadata": {
        "id": "0sWPccRGwv73"
      },
      "source": [
        "### Question: Why should we avoid DT for high dimensional data? "
      ]
    },
    {
      "cell_type": "markdown",
      "metadata": {
        "id": "AHPhbIMs2dQc"
      },
      "source": [
        "\n",
        "If there are lots of features it takes a lot of time to check every possible split and compute entropy\n",
        "\n",
        "Hence, time to build DT shoots up \n",
        "\n",
        "**So, what can be done about that.?**\n",
        "* We can use distributed computing or multi-processing\n",
        " * **Distributed Computing** is a process in which the data is split and worked on different cores.\n",
        "* We avoid using Decision trees as when the dimensionality is high a simple linear seperator can be used, by using logistic regression\n",
        "* Either use Random forest or GBDT\n"
      ]
    },
    {
      "cell_type": "markdown",
      "metadata": {
        "id": "TB9UDani2euw"
      },
      "source": [
        "\n",
        "\n",
        "<img src='https://drive.google.com/uc?id=1UcqJB8hfzbXaxnU4zwIygyshwoY1T46R'>\n"
      ]
    },
    {
      "cell_type": "markdown",
      "metadata": {
        "id": "lXvhuF3Z2u4M"
      },
      "source": [
        "# **Imbalance data in DT**"
      ]
    },
    {
      "cell_type": "markdown",
      "metadata": {
        "id": "nMny_aMv7AkT"
      },
      "source": [
        "#### Question: Will imbalance data impact DT? \n",
        "\n"
      ]
    },
    {
      "cell_type": "markdown",
      "metadata": {
        "id": "ODkNXTitN74U"
      },
      "source": [
        "Recall that Entropy and Gini Impurity are fucntions of probability\n",
        "\n",
        "* Assume  a condition where there is an imbalance in the root node \n",
        "  * **having 99% positive data **\n",
        "  * **This skews the entropy or Gini Impurity**\n",
        "\n",
        "So, we have to rebalance the data. (which is what we did in the beginning)\n",
        "\n",
        "* We can rebalance in many ways like \n",
        " * using class weights\n",
        " * up - samplinig\n",
        " * SMOTE can be used.  "
      ]
    },
    {
      "cell_type": "markdown",
      "metadata": {
        "id": "Zp0Z2b7BbGzO"
      },
      "source": [
        "\n",
        "\n",
        "<img src='https://drive.google.com/uc?id=1HKUqza2v3zHmYP3-zYRKWD_Mi5MUs8PX'>"
      ]
    },
    {
      "cell_type": "markdown",
      "metadata": {
        "id": "sdCwgPjQ4ur3"
      },
      "source": [
        "# **Train/Run time complexity**"
      ]
    },
    {
      "cell_type": "markdown",
      "metadata": {
        "id": "pOeWK7zb8JK3"
      },
      "source": [
        "#### Question: What do you think will be run time and space complexity will be ? "
      ]
    },
    {
      "cell_type": "markdown",
      "metadata": {
        "id": "R4uADt855zMo"
      },
      "source": [
        "Let \n",
        "- n be the number of data points \n",
        "- m be the number of nodes and \n",
        "- d be the depth of the tree \n",
        "\n",
        "Then, \n",
        "* **Train time complexity** is **$O(nlog(n)*d)$**\n",
        "    - where nlog(n) is the time taken to sort numerical features\n",
        "    - multiplied by d, as you have to calculate split for d features\n",
        "\n",
        "* The **Run Time complexity** of the tree of depth d is O(depth) \n",
        "    - as we only have to evaluate at max d condtions\n",
        "\n",
        "* The **Space complexity** of the tree is O(m)\n",
        "    - we only have to store **m if else condtions**\n",
        "\n",
        "Here,  depth is the function of number of nodes i.e log(m)   \n",
        " \n",
        "If $d_{best}$ is computated using cross validation the decision tree will be very efficient at runtime.\n",
        "\n"
      ]
    },
    {
      "cell_type": "markdown",
      "metadata": {
        "id": "MEd1KnQfB0CM"
      },
      "source": [
        "\n",
        "<img src='https://drive.google.com/uc?id=1lgpPR9T2IxGxWsmUH9D8hO-5NTQtJFqE'>"
      ]
    },
    {
      "cell_type": "markdown",
      "metadata": {
        "id": "Hel_aeClPzzf"
      },
      "source": [
        "# **Multi class classification**"
      ]
    },
    {
      "cell_type": "markdown",
      "metadata": {
        "id": "VFh6NmauF8_a"
      },
      "source": [
        "#### How will DT work for multi class classification?"
      ]
    },
    {
      "cell_type": "markdown",
      "metadata": {
        "id": "H1s9aViHQFlp"
      },
      "source": [
        "Whether it is binary or multiclass, DT works the same.\n",
        "\n",
        "We just need to calculate the Entropy or Gini Impurity.\n",
        "\n",
        "However, there is a catch\n",
        "* at the leaf node if we have more classes we take the majority class.\n"
      ]
    },
    {
      "cell_type": "markdown",
      "metadata": {
        "id": "Wot1LN-RWnrs"
      },
      "source": [
        "\n",
        "<img src='https://drive.google.com/uc?id=1dDWifTRTzncApzTa-M6ExppyCJj5m6-Q'>\n"
      ]
    },
    {
      "cell_type": "markdown",
      "metadata": {
        "id": "TtLFTvjaHcn3"
      },
      "source": [
        "# **Interpretibility**"
      ]
    },
    {
      "cell_type": "markdown",
      "metadata": {
        "id": "UwpyJWzwIKxT"
      },
      "source": [
        "Decision Trees are hyper interpretable\n",
        "- as we can read them as if else condition\n",
        "- can be understood by non expert"
      ]
    },
    {
      "cell_type": "markdown",
      "metadata": {
        "id": "_crMG3fRIFdV"
      },
      "source": [
        "\n",
        "<img src='https://drive.google.com/uc?id=1S8XxE09aiBO_RK_Bte8jKIGjr81An7Ef'>\n",
        "\n"
      ]
    },
    {
      "cell_type": "markdown",
      "metadata": {
        "id": "jZdovsTcIYMZ"
      },
      "source": [
        "## **Using feature twice for split**"
      ]
    },
    {
      "cell_type": "markdown",
      "metadata": {
        "id": "5yYH04q9Ii3Q"
      },
      "source": [
        "#### Question: Can we use a feature twice for splitting?"
      ]
    },
    {
      "cell_type": "markdown",
      "metadata": {
        "id": "afSNZG1YIWPM"
      },
      "source": [
        "\n",
        "\n",
        "Imagine we split the root node using feature $f_1$ \n",
        "\n",
        "**Can we use this feature again to split the child node ?**"
      ]
    },
    {
      "cell_type": "markdown",
      "metadata": {
        "id": "t1AWD3QLIh6r"
      },
      "source": [
        "\n",
        "<img src='https://drive.google.com/uc?id=1Ve7CZ5Pb8Tufhb98AhmEg5L9rVHgm1-z'>\n",
        "\n"
      ]
    },
    {
      "cell_type": "markdown",
      "metadata": {
        "id": "iBRg2JbUJj-N"
      },
      "source": [
        "Let's see for both categorical as well as numerical features\n",
        "\n",
        "Let's say we have \n",
        "- 100 +ve points\n",
        "- 100 -ve points at root node.\n",
        "\n",
        "### **Categorical feature**\n",
        "\n",
        "We used Gender (categorical) to split the data\n",
        "\n",
        "We got two child nodes\n",
        "- Male node:\n",
        "    - 70 +ve\n",
        "    - 30 -ve\n",
        "\n",
        "- Female node:\n",
        "    - 30 +ve\n",
        "    - 70 -ve\n",
        "\n",
        "**Can we again use Gender to split Male node?**\n",
        "\n",
        "No. \n",
        "Even if we use, we only have Male category data in current node.\n",
        "- there will be no information gain i.e. info gain = 0\n",
        "\n",
        "\n",
        "\n",
        "\n"
      ]
    },
    {
      "cell_type": "markdown",
      "metadata": {
        "id": "I6dIIMNZKC96"
      },
      "source": [
        "\n",
        "<img src='https://drive.google.com/uc?id=1g_zrbs47bI4XqaQ4lJulVnal-B2mzfhn'>\n",
        "\n"
      ]
    },
    {
      "cell_type": "markdown",
      "metadata": {
        "id": "IH_Bng1AVB7s"
      },
      "source": [
        "But, there's an exception\n",
        "- A single categorical feature can be used more than once in different branches of tree"
      ]
    },
    {
      "cell_type": "markdown",
      "metadata": {
        "id": "IaKPSvDnVz9W"
      },
      "source": [
        "\n",
        "<img src='https://drive.google.com/uc?id=16L9ZMNk4hz9eMrafNrPxcL4w-zLfNGrt'>\n",
        "\n"
      ]
    },
    {
      "cell_type": "markdown",
      "metadata": {
        "id": "FRa04OCyMCE0"
      },
      "source": [
        "### **Numerical feature**\n",
        "\n",
        "Now, let's say we are splitting the root node numerical feature i.e. Years of Experience.\n",
        "\n",
        "First, we found out IG for each threshold and YOE of 12 yrs was giving the best IG.\n",
        "- We split the node with $YOE ≤ 12$\n",
        "\n",
        "#### Question: Can we again use numerical feature for split?\n",
        "\n",
        "Yes. It is possible that same feature for different threshold may give best IG among all features at child node.\n",
        "\n"
      ]
    },
    {
      "cell_type": "markdown",
      "metadata": {
        "id": "ddj37Pj8Nrx1"
      },
      "source": [
        "\n",
        "<img src='https://drive.google.com/uc?id=10CQM-YGajNRnSIMlPTvUvosTnCoXFEcb'>\n",
        "\n"
      ]
    },
    {
      "cell_type": "markdown",
      "metadata": {
        "id": "fMT9P1XgNo7W"
      },
      "source": [
        "# **Feature Importance**"
      ]
    },
    {
      "cell_type": "markdown",
      "metadata": {
        "id": "xsFTHs9oNgLT"
      },
      "source": [
        "Recall,\n",
        "* In case of logistic and linear regression after standardisation we can just consider absolute value of weights which give us feature importance \n",
        "\n",
        "But we don't have any weights in DT.\n",
        "\n",
        "#### **Question: How can we get Feature importance for DT ? Any ideas?**\n",
        "\n",
        "Suppose we have 10,000 datapoints @ root node.\n",
        "\n",
        "Let us consider a feature $f_i$ which is used twice in splitting a decision tree \n",
        "\n",
        "* At first split let the number of data points be 5000($n_1$) and Infromation Gain is IG$_1$\n",
        "* Let number of data points at second split be 500($n_2$) and Infromation Gain is IG$_2$\n",
        "\n",
        "* We calculate feature importaance of $f_i$ by \n",
        " - $f_i$ = IG$_1$ * $\\frac{n_1}{n}$ + IG$_2$ * $\\frac{n_2}{n}$ \n",
        " * i.e $f_i$ = IG$_1$ * $\\frac{5000}{10,000}$ + IG$_2$ * $\\frac{500}{10,000}$ \n",
        "\n",
        "This is called **normalized information gain.**\n",
        "\n",
        "* Closer to the root node, more the weightage\n",
        "    - it gives more weightage based on number of datapoints it is impacting.\n"
      ]
    },
    {
      "cell_type": "markdown",
      "metadata": {
        "id": "RTSKeOpqbaE1"
      },
      "source": [
        "\n",
        "\n",
        "<img src='https://drive.google.com/uc?id=12gJv36lGDumsuJ0bdafTB1Iq8bPpbs68'>\n"
      ]
    },
    {
      "cell_type": "markdown",
      "metadata": {
        "id": "hQOYWdHTcSWq"
      },
      "source": [
        "We calculate normalized information gain for all features and \n",
        "- this Normalized IG is used as feature importances.\n",
        "\n",
        "\n",
        "Do note that this is one of the popular way of calulating Feature importance.\n",
        "\n",
        "Different libraries may use different way of calculating Feature importance i.e. implementation specific.\n",
        "\n"
      ]
    },
    {
      "cell_type": "markdown",
      "metadata": {
        "id": "OH3nHrc9NonL"
      },
      "source": [
        "\n",
        "\n",
        "<img src='https://drive.google.com/uc?id=1_89mxH7bzeSeuR90uQjSwU-jPlSGkeqV'>\n"
      ]
    },
    {
      "cell_type": "markdown",
      "metadata": {
        "id": "s64u0nqV8u_W"
      },
      "source": [
        "### Code walkthrough"
      ]
    },
    {
      "cell_type": "code",
      "execution_count": null,
      "metadata": {
        "colab": {
          "base_uri": "https://localhost:8080/",
          "height": 627
        },
        "id": "cY19KT0a7wum",
        "outputId": "42c4fc3e-0670-47fa-9171-dc16dd96ba30"
      },
      "outputs": [
        {
          "output_type": "display_data",
          "data": {
            "text/plain": [
              "<Figure size 1080x504 with 1 Axes>"
            ],
            "image/png": "[encoded data removed]"
          },
          "metadata": {
            "needs_background": "light"
          }
        }
      ],
      "source": [
        "importances = tree_clf.feature_importances_\n",
        "indices = np.argsort(importances)[::-1] # Sort feature importances in descending order\n",
        "names = [X_train.columns[i] for i in indices] # Rearrange feature names so they match the sorted feature importances\n",
        "\n",
        "plt.figure(figsize=(15, 7)) # Create plot\n",
        "plt.title(\"Feature Importance\") # Create plot title\n",
        "plt.bar(range(X_train.shape[1]), importances[indices]) # Add bars\n",
        "plt.xticks(range(X_train.shape[1]), names, rotation=90) # Add feature names as x-axis labels\n",
        "plt.show() # Show plot"
      ]
    },
    {
      "cell_type": "code",
      "execution_count": null,
      "metadata": {
        "colab": {
          "base_uri": "https://localhost:8080/",
          "height": 363
        },
        "id": "_nIJC5_Z8l7L",
        "outputId": "cd5ca416-5ed0-4ac7-96aa-77b46dae9a30"
      },
      "outputs": [
        {
          "output_type": "execute_result",
          "data": {
            "text/plain": [
              "                        Feature  Coefficient\n",
              "0          MaritalStatus_Single     0.574666\n",
              "1                       JobRole     0.200052\n",
              "2                JobInvolvement     0.093164\n",
              "3               JobSatisfaction     0.064014\n",
              "4       EnvironmentSatisfaction     0.032594\n",
              "5         TrainingTimesLastYear     0.020674\n",
              "6            NumCompaniesWorked     0.007593\n",
              "7             TotalWorkingYears     0.007242\n",
              "8    Department_Human Resources     0.000000\n",
              "9  BusinessTravel_Travel_Rarely     0.000000"
            ],
            "text/html": [
              "\n",
              "  <div id=\"df-1f8eb876-a2c3-4ee9-9c9e-3c1783a175d5\">\n",
              "    <div class=\"colab-df-container\">\n",
              "      <div>\n",
              "<style scoped>\n",
              "    .dataframe tbody tr th:only-of-type {\n",
              "        vertical-align: middle;\n",
              "    }\n",
              "\n",
              "    .dataframe tbody tr th {\n",
              "        vertical-align: top;\n",
              "    }\n",
              "\n",
              "    .dataframe thead th {\n",
              "        text-align: right;\n",
              "    }\n",
              "</style>\n",
              "<table border=\"1\" class=\"dataframe\">\n",
              "  <thead>\n",
              "    <tr style=\"text-align: right;\">\n",
              "      <th></th>\n",
              "      <th>Feature</th>\n",
              "      <th>Coefficient</th>\n",
              "    </tr>\n",
              "  </thead>\n",
              "  <tbody>\n",
              "    <tr>\n",
              "      <th>0</th>\n",
              "      <td>MaritalStatus_Single</td>\n",
              "      <td>0.574666</td>\n",
              "    </tr>\n",
              "    <tr>\n",
              "      <th>1</th>\n",
              "      <td>JobRole</td>\n",
              "      <td>0.200052</td>\n",
              "    </tr>\n",
              "    <tr>\n",
              "      <th>2</th>\n",
              "      <td>JobInvolvement</td>\n",
              "      <td>0.093164</td>\n",
              "    </tr>\n",
              "    <tr>\n",
              "      <th>3</th>\n",
              "      <td>JobSatisfaction</td>\n",
              "      <td>0.064014</td>\n",
              "    </tr>\n",
              "    <tr>\n",
              "      <th>4</th>\n",
              "      <td>EnvironmentSatisfaction</td>\n",
              "      <td>0.032594</td>\n",
              "    </tr>\n",
              "    <tr>\n",
              "      <th>5</th>\n",
              "      <td>TrainingTimesLastYear</td>\n",
              "      <td>0.020674</td>\n",
              "    </tr>\n",
              "    <tr>\n",
              "      <th>6</th>\n",
              "      <td>NumCompaniesWorked</td>\n",
              "      <td>0.007593</td>\n",
              "    </tr>\n",
              "    <tr>\n",
              "      <th>7</th>\n",
              "      <td>TotalWorkingYears</td>\n",
              "      <td>0.007242</td>\n",
              "    </tr>\n",
              "    <tr>\n",
              "      <th>8</th>\n",
              "      <td>Department_Human Resources</td>\n",
              "      <td>0.000000</td>\n",
              "    </tr>\n",
              "    <tr>\n",
              "      <th>9</th>\n",
              "      <td>BusinessTravel_Travel_Rarely</td>\n",
              "      <td>0.000000</td>\n",
              "    </tr>\n",
              "  </tbody>\n",
              "</table>\n",
              "</div>\n",
              "      <button class=\"colab-df-convert\" onclick=\"convertToInteractive('df-1f8eb876-a2c3-4ee9-9c9e-3c1783a175d5')\"\n",
              "              title=\"Convert this dataframe to an interactive table.\"\n",
              "              style=\"display:none;\">\n",
              "        \n",
              "  <svg xmlns=\"http://www.w3.org/2000/svg\" height=\"24px\"viewBox=\"0 0 24 24\"\n",
              "       width=\"24px\">\n",
              "    <path d=\"M0 0h24v24H0V0z\" fill=\"none\"/>\n",
              "    <path d=\"M18.56 5.44l.94 2.06.94-2.06 2.06-.94-2.06-.94-.94-2.06-.94 2.06-2.06.94zm-11 1L8.5 8.5l.94-2.06 2.06-.94-2.06-.94L8.5 2.5l-.94 2.06-2.06.94zm10 10l.94 2.06.94-2.06 2.06-.94-2.06-.94-.94-2.06-.94 2.06-2.06.94z\"/><path d=\"M17.41 7.96l-1.37-1.37c-.4-.4-.92-.59-1.43-.59-.52 0-1.04.2-1.43.59L10.3 9.45l-7.72 7.72c-.78.78-.78 2.05 0 2.83L4 21.41c.39.39.9.59 1.41.59.51 0 1.02-.2 1.41-.59l7.78-7.78 2.81-2.81c.8-.78.8-2.07 0-2.86zM5.41 20L4 18.59l7.72-7.72 1.47 1.35L5.41 20z\"/>\n",
              "  </svg>\n",
              "      </button>\n",
              "      \n",
              "  <style>\n",
              "    .colab-df-container {\n",
              "      display:flex;\n",
              "      flex-wrap:wrap;\n",
              "      gap: 12px;\n",
              "    }\n",
              "\n",
              "    .colab-df-convert {\n",
              "      background-color: #E8F0FE;\n",
              "      border: none;\n",
              "      border-radius: 50%;\n",
              "      cursor: pointer;\n",
              "      display: none;\n",
              "      fill: #1967D2;\n",
              "      height: 32px;\n",
              "      padding: 0 0 0 0;\n",
              "      width: 32px;\n",
              "    }\n",
              "\n",
              "    .colab-df-convert:hover {\n",
              "      background-color: #E2EBFA;\n",
              "      box-shadow: 0px 1px 2px rgba(60, 64, 67, 0.3), 0px 1px 3px 1px rgba(60, 64, 67, 0.15);\n",
              "      fill: #174EA6;\n",
              "    }\n",
              "\n",
              "    [theme=dark] .colab-df-convert {\n",
              "      background-color: #3B4455;\n",
              "      fill: #D2E3FC;\n",
              "    }\n",
              "\n",
              "    [theme=dark] .colab-df-convert:hover {\n",
              "      background-color: #434B5C;\n",
              "      box-shadow: 0px 1px 3px 1px rgba(0, 0, 0, 0.15);\n",
              "      filter: drop-shadow(0px 1px 2px rgba(0, 0, 0, 0.3));\n",
              "      fill: #FFFFFF;\n",
              "    }\n",
              "  </style>\n",
              "\n",
              "      <script>\n",
              "        const buttonEl =\n",
              "          document.querySelector('#df-1f8eb876-a2c3-4ee9-9c9e-3c1783a175d5 button.colab-df-convert');\n",
              "        buttonEl.style.display =\n",
              "          google.colab.kernel.accessAllowed ? 'block' : 'none';\n",
              "\n",
              "        async function convertToInteractive(key) {\n",
              "          const element = document.querySelector('#df-1f8eb876-a2c3-4ee9-9c9e-3c1783a175d5');\n",
              "          const dataTable =\n",
              "            await google.colab.kernel.invokeFunction('convertToInteractive',\n",
              "                                                     [key], {});\n",
              "          if (!dataTable) return;\n",
              "\n",
              "          const docLinkHtml = 'Like what you see? Visit the ' +\n",
              "            '<a target=\"_blank\" href=https://colab.research.google.com/notebooks/data_table.ipynb>data table notebook</a>'\n",
              "            + ' to learn more about interactive tables.';\n",
              "          element.innerHTML = '';\n",
              "          dataTable['output_type'] = 'display_data';\n",
              "          await google.colab.output.renderOutput(dataTable, element);\n",
              "          const docLink = document.createElement('div');\n",
              "          docLink.innerHTML = docLinkHtml;\n",
              "          element.appendChild(docLink);\n",
              "        }\n",
              "      </script>\n",
              "    </div>\n",
              "  </div>\n",
              "  "
            ]
          },
          "metadata": {},
          "execution_count": 37
        }
      ],
      "source": [
        "df_param_coeff = pd.DataFrame(columns=['Feature', 'Coefficient'])\n",
        "for i in range(len(list(X_sm.columns))):\n",
        "    feat = X_sm.columns[i]\n",
        "    coeff = importances[i]\n",
        "    df_param_coeff.loc[i] = (feat, coeff)\n",
        "df_param_coeff.sort_values(by='Coefficient', ascending=False, inplace=True)\n",
        "df_param_coeff = df_param_coeff.reset_index(drop=True)\n",
        "df_param_coeff.head(10)"
      ]
    },
    {
      "cell_type": "markdown",
      "metadata": {
        "id": "U_xv-Cv78qJ9"
      },
      "source": [
        "#### What can we infer from this data ?\n",
        "- StockOptionLevel affects attrition the most\n",
        "- So the company can focus on providing more stocks to employees\n",
        "- Then comes factors such as Job_Satisfaction and JobRole."
      ]
    },
    {
      "cell_type": "code",
      "source": [],
      "metadata": {
        "id": "wSQ1TH7ZIW9T"
      },
      "execution_count": null,
      "outputs": []
    },
    {
      "cell_type": "code",
      "source": [],
      "metadata": {
        "id": "GOCyD0CBIW6-"
      },
      "execution_count": null,
      "outputs": []
    },
    {
      "cell_type": "code",
      "source": [],
      "metadata": {
        "id": "Ln0HzBs3DKSU"
      },
      "execution_count": null,
      "outputs": []
    },
    {
      "cell_type": "code",
      "source": [],
      "metadata": {
        "id": "FxYu95g-DKPJ"
      },
      "execution_count": null,
      "outputs": []
    },
    {
      "cell_type": "code",
      "source": [],
      "metadata": {
        "id": "OohXQA6nIW4M"
      },
      "execution_count": null,
      "outputs": []
    },
    {
      "cell_type": "markdown",
      "metadata": {
        "id": "qthT9V2UBVCb"
      },
      "source": [
        "# **Regression using decision tree**"
      ]
    },
    {
      "cell_type": "markdown",
      "metadata": {
        "id": "RlfrJMoiBg8b"
      },
      "source": [
        "For Classifiaction task,  \n",
        "* We had entropy and Gini Impurity to choose the feature for split. \n",
        "* At leaf node, we had datapoints with $y_i's$ and\n",
        "    - we used class label of **majority data points** to predict the class label for query data point.\n",
        "\n",
        "#### Question: Can we use Entropy or Gini Impurity for regression?\n",
        "NO! Since entropy and GI are functions of probability of class labels.\n",
        "- For regression, we don't have any class labels\n",
        "- We have continous values.\n",
        "\n",
        "\n",
        "Also, we have continous y label in leaf nodes as well. How do we calculate predicted label? \n",
        "\n",
        "**What do we do in the Regression?**\n",
        "*  We take the mean or median of all values in the leaf node and give that value as predicted value ($y_{pred}$).\n",
        "\n"
      ]
    },
    {
      "cell_type": "markdown",
      "metadata": {
        "id": "bXkBdbYpH_ae"
      },
      "source": [
        "\n",
        "<img src='https://drive.google.com/uc?id=18nvTgpEKS4Rhcn4em4hPNgyH1eRLF14Q'>"
      ]
    },
    {
      "cell_type": "markdown",
      "metadata": {
        "id": "njYXMnDqFtom"
      },
      "source": [
        "#### Question: What is the alternative for Entropy? (Hint: Recall Linear Regression)\n",
        "* here, as we saw in linear regression already,we can use **Mean Squared Error or Median Absolute error**\n",
        "\n",
        "Let us assume a data D at root node \n",
        "- along with $y_i$ (continuous) \n",
        "- It is split into D1 and D2 \n",
        "\n",
        "Now we calculate \n",
        "- the MSE of these points in parent node and \n",
        "- the weighted MSE for the child nodes\n",
        "\n",
        "\n",
        "Now, the difference between the MSE of parent node and weighted MSE of child nodes can be used as the criteria.\n",
        " * ΔMSE = (MSE of parent node) $-$ (weighted MSE of child nodes) \n",
        "\n",
        "* MSE is lowest when all $y_i$'s are same and high when they are diverse"
      ]
    },
    {
      "cell_type": "markdown",
      "metadata": {
        "id": "fdr81NSnIKiT"
      },
      "source": [
        "\n",
        "<img src='https://drive.google.com/uc?id=11QnvrLTzCUN0pDEXHb5zXSOTIL_UHV-X'>\n",
        "\n"
      ]
    },
    {
      "cell_type": "markdown",
      "metadata": {
        "id": "VoV9LoyJnPyx"
      },
      "source": [
        "\n",
        "<img src='https://drive.google.com/uc?id=1jGzM-H3p-wgW3_bVga-WMNb_QsF0x5mj'>"
      ]
    },
    {
      "cell_type": "markdown",
      "metadata": {
        "id": "-4QxqIriIiYe"
      },
      "source": [
        "#### **How is MSE calculated?**\n",
        " \n",
        "Let us assume we have a datapoints with target value $y$ \n",
        "* We consider the mean or medain of these points as predicted value i.e $ŷ_i$\n",
        "* Now we calculate the MSE or MAE for these points, this will be the MSE of parent node.\n",
        "* After the data is split \n",
        " * We now consider the mean of all values ($y_i'$) in child node as predicted value $ŷ_i'$\n",
        " * we now calculate the MSE or MAE for these in each child node and then calculate the weighted  MSE of the child nodes.\n",
        "* Then we find the difference and use this as the critearia to be compared among the features to decide the split."
      ]
    },
    {
      "cell_type": "markdown",
      "metadata": {
        "id": "cPDDoE7IL4fA"
      },
      "source": [
        "\n",
        "<img src='https://drive.google.com/uc?id=1J8ifUk-ir3xCSsTRkr855bU0RB_ea-gF'>"
      ]
    },
    {
      "cell_type": "markdown",
      "metadata": {
        "id": "Nlk6WXkCjmIU"
      },
      "source": [
        "### Example\n",
        "\n"
      ]
    },
    {
      "cell_type": "markdown",
      "metadata": {
        "id": "lWBjurg7lb9p"
      },
      "source": [
        "Suppose we have 6 datapoints with two features ($f_1, f_2$)\n",
        "- $f_1$ has categories $C_1, C_2, C_3, C_4$\n",
        "- $f_2$ has categories $D_1, D_2, D_3$\n",
        "- $y_i$'s are 1,2,3,4,5,6 resp.\n",
        "\n",
        "#### Question: What will be the $ŷ$?\n",
        "It'll be mean on the $y_i$'s i.e. 3.5\n",
        "\n",
        "Suppose we are splitting by $f_1$\n",
        "- There will be 4 child nodes as there are 4 categories\n",
        "\n",
        "For category $C_1$\n",
        "- We get 3 datapoints in child node\n",
        "- $ŷ$ will be mean of 1,2,3 i.e. 2\n",
        "\n",
        "For $C_2$\n",
        "- We only got 1 datapoints\n",
        "- MSE for this node will be zero as actual y and predicted y will be same\n",
        "\n",
        "Similarly, we get datapoints in $C_3$ and $C_4$\n",
        "\n",
        "- We calculate MSE for child nodes and then calculate weighted MSE for child nodes\n",
        "- Then, we calculate ΔMSE i.e. MSE parent - weighted MSE of child.\n",
        "\n",
        "\n",
        "#### What does ΔMSE signify?\n",
        "It signifies the reduction in MSE from parent to child.\n",
        "\n",
        "#### What is objective of regression?\n",
        "We want to reduce the MSE as much as possible\n",
        "\n",
        "So, We will pick the feature with highest ΔMSE  for split\n",
        "\n"
      ]
    },
    {
      "cell_type": "markdown",
      "metadata": {
        "id": "2DQHcjpylGih"
      },
      "source": [
        "\n",
        "<img src='https://drive.google.com/uc?id=1TTqz-kAYonTuDkR81BbBW_s4ZT8JxPwF'>"
      ]
    },
    {
      "cell_type": "markdown",
      "metadata": {
        "id": "yq74JxEv_mnT"
      },
      "source": [
        "### Code walkthrough - scratch implementation for threshold"
      ]
    },
    {
      "cell_type": "markdown",
      "metadata": {
        "id": "8KQOk0vEPqzZ"
      },
      "source": [
        "#### Loading data"
      ]
    },
    {
      "cell_type": "code",
      "execution_count": null,
      "metadata": {
        "colab": {
          "background_save": true
        },
        "id": "JPB6WtKNPsPS"
      },
      "outputs": [],
      "source": [
        "!gdown 176WcJFfaSz3YkO1TiGEg_EqWgJ4YQEwO"
      ]
    },
    {
      "cell_type": "code",
      "execution_count": null,
      "metadata": {
        "colab": {
          "background_save": true
        },
        "id": "0ZYXCxGXPv2u"
      },
      "outputs": [],
      "source": [
        "regression_data = pd.read_csv('regData.csv')"
      ]
    },
    {
      "cell_type": "code",
      "execution_count": null,
      "metadata": {
        "colab": {
          "background_save": true
        },
        "id": "va3wGvDHP0kT"
      },
      "outputs": [],
      "source": [
        "regression_data.head()"
      ]
    },
    {
      "cell_type": "code",
      "execution_count": null,
      "metadata": {
        "colab": {
          "background_save": true
        },
        "id": "1mK4cJhfR3ee"
      },
      "outputs": [],
      "source": [
        "regression_data.info()"
      ]
    },
    {
      "cell_type": "markdown",
      "metadata": {
        "id": "utpR6bkXR6_k"
      },
      "source": [
        "Ther are total of 600 datapoints"
      ]
    },
    {
      "cell_type": "code",
      "execution_count": null,
      "metadata": {
        "colab": {
          "background_save": true
        },
        "id": "kMmeGOsVP8gQ"
      },
      "outputs": [],
      "source": [
        "X = regression_data['X']\n",
        "y = regression_data['Y']"
      ]
    },
    {
      "cell_type": "markdown",
      "metadata": {
        "id": "jNGzq8eiP229"
      },
      "source": [
        "#### Plotting data"
      ]
    },
    {
      "cell_type": "code",
      "execution_count": null,
      "metadata": {
        "colab": {
          "background_save": true
        },
        "id": "nTHkauquP4Jq"
      },
      "outputs": [],
      "source": [
        "plt.figure(figsize = (20,10))\n",
        "plt.scatter(X,y)\n",
        "plt.xlabel('X')\n",
        "plt.ylabel('Y')\n",
        "plt.show()"
      ]
    },
    {
      "cell_type": "markdown",
      "metadata": {
        "id": "GPQ39srHQGKQ"
      },
      "source": [
        "#### Splitting data"
      ]
    },
    {
      "cell_type": "code",
      "execution_count": null,
      "metadata": {
        "colab": {
          "background_save": true
        },
        "id": "8ABH44WnQI72"
      },
      "outputs": [],
      "source": [
        "from sklearn.model_selection import train_test_split\n",
        "X_train, X_test, y_train, y_test = train_test_split(X,\n",
        "                                                    y,\n",
        "                                                    test_size=0.25,\n",
        "                                                    random_state=43,\n",
        "                                                    shuffle = True)  "
      ]
    },
    {
      "cell_type": "markdown",
      "metadata": {
        "id": "2Ea_KbxOQLVN"
      },
      "source": [
        "#### Sorting feature to calculate threshold"
      ]
    },
    {
      "cell_type": "code",
      "execution_count": null,
      "metadata": {
        "colab": {
          "background_save": true
        },
        "id": "YPzly2rNQOXM"
      },
      "outputs": [],
      "source": [
        "thresholds = X_train.sort_values().unique()"
      ]
    },
    {
      "cell_type": "code",
      "execution_count": null,
      "metadata": {
        "colab": {
          "background_save": true
        },
        "id": "ANI-qZ0cQP-R"
      },
      "outputs": [],
      "source": [
        "thresholds"
      ]
    },
    {
      "cell_type": "markdown",
      "metadata": {
        "id": "Dg-cn8ZAPDEr"
      },
      "source": [
        "#### Calculating MSE"
      ]
    },
    {
      "cell_type": "code",
      "execution_count": null,
      "metadata": {
        "colab": {
          "background_save": true
        },
        "id": "rTxqtTdh_oi1"
      },
      "outputs": [],
      "source": [
        "def calculate_MSE(y):\n",
        "    if(y.shape[0] == 0):\n",
        "        return 0\n",
        "\n",
        "    y_pred = np.mean(y)\n",
        "\n",
        "    n = y.shape[0]\n",
        "\n",
        "    mse = np.sum((y - np.mean(y))**2)\n",
        "    mse /= n\n",
        "\n",
        "    return mse"
      ]
    },
    {
      "cell_type": "markdown",
      "metadata": {
        "id": "Sv0bHsK7QSGW"
      },
      "source": [
        "#### Calculating delta MSE"
      ]
    },
    {
      "cell_type": "code",
      "execution_count": null,
      "metadata": {
        "colab": {
          "background_save": true
        },
        "id": "HlH-ynvJPGGI"
      },
      "outputs": [],
      "source": [
        "def calulate_deltaMSE(y,mask):\n",
        "    left_node_count = sum(mask)\n",
        "    total = mask.shape[0]\n",
        "    right_node_count = total - left_node_count\n",
        "\n",
        "    parent_MSE = calculate_MSE(y)\n",
        "\n",
        "    child_MSE = left_node_count/total*calculate_MSE(y[mask]) + right_node_count/total*calculate_MSE(y[~mask])\n",
        "\n",
        "    deltaMSE = parent_MSE - child_MSE\n",
        "\n",
        "    return deltaMSE\n",
        "\n",
        "    "
      ]
    },
    {
      "cell_type": "markdown",
      "metadata": {
        "id": "Xi-KfOePQWmz"
      },
      "source": [
        "#### Calculating best threshold for split"
      ]
    },
    {
      "cell_type": "code",
      "execution_count": null,
      "metadata": {
        "colab": {
          "background_save": true
        },
        "id": "1p60VHdxQWDC"
      },
      "outputs": [],
      "source": [
        "delta_mse_train = []\n",
        "\n",
        "for thr in thresholds:\n",
        "    mask = X_train <= thr\n",
        "\n",
        "    delta_MSE = calulate_deltaMSE(y_train, mask)\n",
        "\n",
        "    delta_mse_train.append(delta_MSE)\n",
        "\n",
        "\n"
      ]
    },
    {
      "cell_type": "code",
      "execution_count": null,
      "metadata": {
        "colab": {
          "background_save": true
        },
        "id": "2AVkHVyGQZ1j"
      },
      "outputs": [],
      "source": [
        "delta_mse_train = np.array(delta_mse_train)\n",
        "\n",
        "print(f'Best reduction in MSE is {delta_mse_train.max()} is for threshold: {thresholds[delta_mse_train.argmax()]}')"
      ]
    },
    {
      "cell_type": "markdown",
      "metadata": {
        "id": "b1Uq-JygWKeZ"
      },
      "source": [
        "#### Note \n",
        "sklearn implementation creates thresholds by taking average of two values.\n",
        "\n",
        "Let's see an example:\n",
        "\n",
        "- Say, we have feature $X_1$ as $[1,2,3,4,5]$.\n",
        "\n",
        "- So, thresholds here will be $[1.5, 2.5, 3.5, 4.5]$\n",
        "\n",
        "- i.e. First threshold will be  $\\frac{1 + 2}{2} = 1.5$\n",
        "\n",
        "- Similarly, second threshold will be $\\frac{2 + 3}{2} = 2.5$\n",
        "\n"
      ]
    },
    {
      "cell_type": "markdown",
      "metadata": {
        "id": "DFQ-xBovQ0WI"
      },
      "source": [
        "### Code walkthrough - sklearn DT regressor"
      ]
    },
    {
      "cell_type": "code",
      "execution_count": null,
      "metadata": {
        "colab": {
          "background_save": true
        },
        "id": "KhnfHislSHhm"
      },
      "outputs": [],
      "source": [
        "from sklearn.tree import DecisionTreeRegressor\n",
        "from sklearn.metrics import mean_squared_error\n",
        "from sklearn.model_selection import KFold, cross_validate"
      ]
    },
    {
      "cell_type": "code",
      "execution_count": null,
      "metadata": {
        "colab": {
          "background_save": true
        },
        "id": "2pGzjOW9Riuk"
      },
      "outputs": [],
      "source": [
        "X_train = X_train.values.reshape(-1,1)"
      ]
    },
    {
      "cell_type": "code",
      "execution_count": null,
      "metadata": {
        "colab": {
          "background_save": true
        },
        "id": "-CWE2y1wR0qm"
      },
      "outputs": [],
      "source": [
        "y_train = y_train.values"
      ]
    },
    {
      "cell_type": "code",
      "execution_count": null,
      "metadata": {
        "colab": {
          "background_save": true
        },
        "id": "EEym_a0AQ_SJ"
      },
      "outputs": [],
      "source": [
        "depths = [1,2,3,5,6,7,9,11]\n",
        "\n",
        "for depth in depths:\n",
        "    tree_reg = DecisionTreeRegressor(random_state=7, max_depth = depth, min_samples_split = 10, min_samples_leaf = 20)\n",
        "\n",
        "    cv_acc_results = cross_validate(tree_reg, X_train, y_train, cv = kfold, scoring = 'neg_mean_squared_error', return_train_score = True)\n",
        "\n",
        "    print(f\"K-Fold for depth:{depth} -ve MSE Mean: Train: {cv_acc_results['train_score'].mean()*100} Validation: {cv_acc_results['test_score'].mean()*100}\")\n",
        "    print('***************')"
      ]
    },
    {
      "cell_type": "markdown",
      "metadata": {
        "id": "tpe1tq4MULO-"
      },
      "source": [
        "Notice, The regressor is overfitting\n",
        "- This may be due to the fact that we have low number of datapoints for training.\n",
        "- we can also try playing with hyperparam tuning\n",
        "\n"
      ]
    },
    {
      "cell_type": "markdown",
      "metadata": {
        "id": "Wv7a4Gh2V5lp"
      },
      "source": [
        "#### Visualizing Decision Tree"
      ]
    },
    {
      "cell_type": "code",
      "execution_count": null,
      "metadata": {
        "colab": {
          "background_save": true
        },
        "id": "VadWyMMxTZjq"
      },
      "outputs": [],
      "source": [
        "features = list(regression_data.columns[0])"
      ]
    },
    {
      "cell_type": "code",
      "execution_count": null,
      "metadata": {
        "colab": {
          "background_save": true
        },
        "id": "eifwk-npTkzb"
      },
      "outputs": [],
      "source": [
        "tree_reg = DecisionTreeRegressor(random_state=7, max_depth = 2, min_samples_split = 20 )\n",
        "tree_reg.fit(X_train, y_train)"
      ]
    },
    {
      "cell_type": "code",
      "execution_count": null,
      "metadata": {
        "colab": {
          "background_save": true
        },
        "id": "Y0hISD9NTOtL"
      },
      "outputs": [],
      "source": [
        "dot_data = StringIO()\n",
        "export_graphviz(tree_reg, out_file=dot_data, feature_names=features, filled=True)\n",
        "graph = pydot.graph_from_dot_data(dot_data.getvalue())\n",
        "Image(graph[0].create_png())\n"
      ]
    },
    {
      "cell_type": "markdown",
      "metadata": {
        "id": "DJ8vc5_HV8QO"
      },
      "source": [
        "#### Visualizing Regression Line"
      ]
    },
    {
      "cell_type": "code",
      "execution_count": null,
      "metadata": {
        "colab": {
          "background_save": true
        },
        "id": "nUWUw1VkVHQf"
      },
      "outputs": [],
      "source": [
        "X_grid = np.arange(min(X_train), max(X_train), 0.01)\n",
        "X_grid = X_grid.reshape((len(X_grid), 1))\n",
        "plt.figure(figsize = (15,10))\n",
        "plt.scatter(X_train, y_train, color = 'red', label = 'Training data')\n",
        "plt.scatter (X_test, y_test, color = 'green', label = 'Test data')\n",
        "plt.plot(X_grid, tree_reg.predict(X_grid), color = 'blue')\n",
        "plt.title('Decision Tree Regression')\n",
        "plt.xlabel('X_train') \n",
        "plt.ylabel('Y')\n",
        "plt.legend()\n",
        "plt.show()"
      ]
    },
    {
      "cell_type": "markdown",
      "metadata": {
        "id": "bja_aP2sc-bH"
      },
      "source": [
        "## Good to know: Greedy Approximation of DT"
      ]
    },
    {
      "cell_type": "markdown",
      "metadata": {
        "id": "OuEnRiCDcRgl"
      },
      "source": [
        "There is no guarantee that DT being created is going to be the most opitmal one\n",
        "\n",
        "* **Building an optimal Decision Tree is a NP-Complete problem** \n",
        "    - This means it can't be done in polynomial time\n",
        "   \n",
        "\n",
        "* So, we do **Greedy approximation**, which picks the feature which gives the best Information Gain\n",
        "    - The decision taken is the one that is best at that time\n",
        "    - It might not be the best for entire decision tree"
      ]
    },
    {
      "cell_type": "markdown",
      "metadata": {
        "id": "sLmD7qDydDHa"
      },
      "source": [
        "\n",
        "\n",
        "<img src='https://drive.google.com/uc?id=1RPdMDPcY6yPSngdtIYo9fMA9aFmadjg6'>\n"
      ]
    },
    {
      "cell_type": "markdown",
      "metadata": {
        "id": "xWMzXsKF7Y21"
      },
      "source": [
        "## Summary of Decision Tree"
      ]
    },
    {
      "cell_type": "markdown",
      "metadata": {
        "id": "uTxatbr07ecp"
      },
      "source": [
        "To summarise everything what we have learnt about decision tree:\n",
        "\n",
        "1.   Decision Trees work well **when the d (depth) is not too large**\n",
        "2. They have a very low **Run-time complexity** \n",
        "3. **No standardisation** is needed.\n",
        "4. Depth is the key **hyper-parameter**\n",
        "\n",
        "\n"
      ]
    },
    {
      "cell_type": "markdown",
      "metadata": {
        "id": "gPaE3__iBpWP"
      },
      "source": [
        "\n",
        "<img src='https://drive.google.com/uc?id=1qAHiBvWa19rqX-lI49DmmdZ4ATwoW9AB'>"
      ]
    },
    {
      "cell_type": "code",
      "execution_count": null,
      "metadata": {
        "colab": {
          "background_save": true
        },
        "id": "T88O09dzuy3U"
      },
      "outputs": [],
      "source": []
    }
  ],
  "metadata": {
    "colab": {
      "collapsed_sections": [
        "yq74JxEv_mnT",
        "DFQ-xBovQ0WI"
      ],
      "provenance": []
    },
    "kernelspec": {
      "display_name": "Python 3",
      "name": "python3"
    },
    "language_info": {
      "name": "python"
    }
  },
  "nbformat": 4,
  "nbformat_minor": 0
}